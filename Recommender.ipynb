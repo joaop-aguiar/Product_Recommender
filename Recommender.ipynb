{
  "nbformat": 4,
  "nbformat_minor": 0,
  "metadata": {
    "colab": {
      "name": "Recommender.ipynb",
      "provenance": []
    },
    "kernelspec": {
      "name": "python3",
      "display_name": "Python 3"
    },
    "language_info": {
      "name": "python"
    }
  },
  "cells": [
    {
      "cell_type": "code",
      "metadata": {
        "id": "wGV6QgPNo4Th"
      },
      "source": [
        "import pandas as pd\n",
        "from sklearn.metrics.pairwise import cosine_similarity"
      ],
      "execution_count": 1,
      "outputs": []
    },
    {
      "cell_type": "code",
      "metadata": {
        "id": "uZPjsAvTp25j"
      },
      "source": [
        "df_order_items = pd.read_csv('/content/DNC_order_items_dataset.csv', index_col= 'Unnamed: 0')\n",
        "df_order_reviews = pd.read_csv('/content/DNC_order_reviews_dataset.csv', index_col= 'Unnamed: 0')\n",
        "df_orders = pd.read_csv('/content/DNC_orders_dataset.csv', index_col= 'Unnamed: 0')\n",
        "df_products = pd.read_csv('/content/DNC_products_dataset.csv', index_col= 'Unnamed: 0')"
      ],
      "execution_count": 2,
      "outputs": []
    },
    {
      "cell_type": "markdown",
      "metadata": {
        "id": "2xYUM7mJyPzm"
      },
      "source": [
        "Definição do Modelo -> Com a base de dados disponibilizada, quais modelos de recomendação podem ser feitos? \n",
        "De acordo com a exploratória dos dados, pode ser feito modelos de recomendação de similaridade de produtos, no \"cold start\" do cliente, irei recomendar os produtos mais pedidos e nota acima de 4, para que de acordo com a navegação do cliente seja recomendado produtos similares aos que ele procura\n",
        "\n"
      ]
    },
    {
      "cell_type": "markdown",
      "metadata": {
        "id": "ucMwxVWN5X_R"
      },
      "source": [
        "#EDA"
      ]
    },
    {
      "cell_type": "code",
      "metadata": {
        "colab": {
          "base_uri": "https://localhost:8080/"
        },
        "id": "76pRkaLvqUdA",
        "outputId": "a30906ce-9aff-438c-9c86-bf1eff5f6e52"
      },
      "source": [
        "print(df_order_items.shape)\n",
        "print(df_order_reviews.shape)\n",
        "print(df_orders.shape)\n",
        "print(df_products.shape)"
      ],
      "execution_count": 3,
      "outputs": [
        {
          "output_type": "stream",
          "name": "stdout",
          "text": [
            "(112650, 4)\n",
            "(99224, 3)\n",
            "(99441, 3)\n",
            "(32951, 8)\n"
          ]
        }
      ]
    },
    {
      "cell_type": "code",
      "metadata": {
        "colab": {
          "base_uri": "https://localhost:8080/"
        },
        "id": "BSzMdDEOrcsn",
        "outputId": "0b6db94f-dcd1-405a-f203-955e75d8e4ca"
      },
      "source": [
        "print((df_order_items.isnull().sum()/df_order_items.shape[0])*100)\n",
        "print('------------------')\n",
        "print((df_order_reviews.isnull().sum()/df_order_reviews.shape[0])*100)\n",
        "print('------------------')\n",
        "print((df_orders.isnull().sum()/df_orders.shape[0])*100)\n",
        "print('---------------------------------')\n",
        "print((df_products.isnull().sum()/df_products.shape[0])*100)"
      ],
      "execution_count": 4,
      "outputs": [
        {
          "output_type": "stream",
          "name": "stdout",
          "text": [
            "order_id         0.0\n",
            "order_item_id    0.0\n",
            "product_id       0.0\n",
            "price            0.0\n",
            "dtype: float64\n",
            "------------------\n",
            "review_id       0.0\n",
            "order_id        0.0\n",
            "review_score    0.0\n",
            "dtype: float64\n",
            "------------------\n",
            "order_id        0.0\n",
            "customer_id     0.0\n",
            "order_status    0.0\n",
            "dtype: float64\n",
            "---------------------------------\n",
            "product_id                    0.000000\n",
            "product_category_name         1.851234\n",
            "product_name_lenght           1.851234\n",
            "product_description_lenght    1.851234\n",
            "product_weight_g              0.006070\n",
            "product_length_cm             0.006070\n",
            "product_height_cm             0.006070\n",
            "product_width_cm              0.006070\n",
            "dtype: float64\n"
          ]
        }
      ]
    },
    {
      "cell_type": "code",
      "metadata": {
        "colab": {
          "base_uri": "https://localhost:8080/",
          "height": 111
        },
        "id": "gyWdqN5b6FPL",
        "outputId": "afeae71b-6421-4b12-af1d-b5f82d63f87a"
      },
      "source": [
        "df_order_items.describe().T"
      ],
      "execution_count": 5,
      "outputs": [
        {
          "output_type": "execute_result",
          "data": {
            "text/html": [
              "<div>\n",
              "<style scoped>\n",
              "    .dataframe tbody tr th:only-of-type {\n",
              "        vertical-align: middle;\n",
              "    }\n",
              "\n",
              "    .dataframe tbody tr th {\n",
              "        vertical-align: top;\n",
              "    }\n",
              "\n",
              "    .dataframe thead th {\n",
              "        text-align: right;\n",
              "    }\n",
              "</style>\n",
              "<table border=\"1\" class=\"dataframe\">\n",
              "  <thead>\n",
              "    <tr style=\"text-align: right;\">\n",
              "      <th></th>\n",
              "      <th>count</th>\n",
              "      <th>mean</th>\n",
              "      <th>std</th>\n",
              "      <th>min</th>\n",
              "      <th>25%</th>\n",
              "      <th>50%</th>\n",
              "      <th>75%</th>\n",
              "      <th>max</th>\n",
              "    </tr>\n",
              "  </thead>\n",
              "  <tbody>\n",
              "    <tr>\n",
              "      <th>order_item_id</th>\n",
              "      <td>112650.0</td>\n",
              "      <td>1.197834</td>\n",
              "      <td>0.705124</td>\n",
              "      <td>1.00</td>\n",
              "      <td>1.0</td>\n",
              "      <td>1.00</td>\n",
              "      <td>1.0</td>\n",
              "      <td>21.0</td>\n",
              "    </tr>\n",
              "    <tr>\n",
              "      <th>price</th>\n",
              "      <td>112650.0</td>\n",
              "      <td>120.653739</td>\n",
              "      <td>183.633928</td>\n",
              "      <td>0.85</td>\n",
              "      <td>39.9</td>\n",
              "      <td>74.99</td>\n",
              "      <td>134.9</td>\n",
              "      <td>6735.0</td>\n",
              "    </tr>\n",
              "  </tbody>\n",
              "</table>\n",
              "</div>"
            ],
            "text/plain": [
              "                  count        mean         std  ...    50%    75%     max\n",
              "order_item_id  112650.0    1.197834    0.705124  ...   1.00    1.0    21.0\n",
              "price          112650.0  120.653739  183.633928  ...  74.99  134.9  6735.0\n",
              "\n",
              "[2 rows x 8 columns]"
            ]
          },
          "metadata": {},
          "execution_count": 5
        }
      ]
    },
    {
      "cell_type": "code",
      "metadata": {
        "colab": {
          "base_uri": "https://localhost:8080/",
          "height": 80
        },
        "id": "-qXZ3Q6T6Lg_",
        "outputId": "559a7c18-cb17-40d8-fe62-f251832c2e6a"
      },
      "source": [
        "df_order_reviews.describe().T"
      ],
      "execution_count": 6,
      "outputs": [
        {
          "output_type": "execute_result",
          "data": {
            "text/html": [
              "<div>\n",
              "<style scoped>\n",
              "    .dataframe tbody tr th:only-of-type {\n",
              "        vertical-align: middle;\n",
              "    }\n",
              "\n",
              "    .dataframe tbody tr th {\n",
              "        vertical-align: top;\n",
              "    }\n",
              "\n",
              "    .dataframe thead th {\n",
              "        text-align: right;\n",
              "    }\n",
              "</style>\n",
              "<table border=\"1\" class=\"dataframe\">\n",
              "  <thead>\n",
              "    <tr style=\"text-align: right;\">\n",
              "      <th></th>\n",
              "      <th>count</th>\n",
              "      <th>mean</th>\n",
              "      <th>std</th>\n",
              "      <th>min</th>\n",
              "      <th>25%</th>\n",
              "      <th>50%</th>\n",
              "      <th>75%</th>\n",
              "      <th>max</th>\n",
              "    </tr>\n",
              "  </thead>\n",
              "  <tbody>\n",
              "    <tr>\n",
              "      <th>review_score</th>\n",
              "      <td>99224.0</td>\n",
              "      <td>4.086421</td>\n",
              "      <td>1.347579</td>\n",
              "      <td>1.0</td>\n",
              "      <td>4.0</td>\n",
              "      <td>5.0</td>\n",
              "      <td>5.0</td>\n",
              "      <td>5.0</td>\n",
              "    </tr>\n",
              "  </tbody>\n",
              "</table>\n",
              "</div>"
            ],
            "text/plain": [
              "                count      mean       std  min  25%  50%  75%  max\n",
              "review_score  99224.0  4.086421  1.347579  1.0  4.0  5.0  5.0  5.0"
            ]
          },
          "metadata": {},
          "execution_count": 6
        }
      ]
    },
    {
      "cell_type": "code",
      "metadata": {
        "colab": {
          "base_uri": "https://localhost:8080/",
          "height": 142
        },
        "id": "kmZR6WjO6RQZ",
        "outputId": "d8e26d60-8be8-4a91-e91d-95759ae98c36"
      },
      "source": [
        "df_orders.describe().T"
      ],
      "execution_count": 7,
      "outputs": [
        {
          "output_type": "execute_result",
          "data": {
            "text/html": [
              "<div>\n",
              "<style scoped>\n",
              "    .dataframe tbody tr th:only-of-type {\n",
              "        vertical-align: middle;\n",
              "    }\n",
              "\n",
              "    .dataframe tbody tr th {\n",
              "        vertical-align: top;\n",
              "    }\n",
              "\n",
              "    .dataframe thead th {\n",
              "        text-align: right;\n",
              "    }\n",
              "</style>\n",
              "<table border=\"1\" class=\"dataframe\">\n",
              "  <thead>\n",
              "    <tr style=\"text-align: right;\">\n",
              "      <th></th>\n",
              "      <th>count</th>\n",
              "      <th>unique</th>\n",
              "      <th>top</th>\n",
              "      <th>freq</th>\n",
              "    </tr>\n",
              "  </thead>\n",
              "  <tbody>\n",
              "    <tr>\n",
              "      <th>order_id</th>\n",
              "      <td>99441</td>\n",
              "      <td>99441</td>\n",
              "      <td>52f89521400b32703e434cd646403475</td>\n",
              "      <td>1</td>\n",
              "    </tr>\n",
              "    <tr>\n",
              "      <th>customer_id</th>\n",
              "      <td>99441</td>\n",
              "      <td>99441</td>\n",
              "      <td>e7232b4d5318177ea3ab911dfb920cbf</td>\n",
              "      <td>1</td>\n",
              "    </tr>\n",
              "    <tr>\n",
              "      <th>order_status</th>\n",
              "      <td>99441</td>\n",
              "      <td>8</td>\n",
              "      <td>delivered</td>\n",
              "      <td>96478</td>\n",
              "    </tr>\n",
              "  </tbody>\n",
              "</table>\n",
              "</div>"
            ],
            "text/plain": [
              "              count unique                               top   freq\n",
              "order_id      99441  99441  52f89521400b32703e434cd646403475      1\n",
              "customer_id   99441  99441  e7232b4d5318177ea3ab911dfb920cbf      1\n",
              "order_status  99441      8                         delivered  96478"
            ]
          },
          "metadata": {},
          "execution_count": 7
        }
      ]
    },
    {
      "cell_type": "code",
      "metadata": {
        "colab": {
          "base_uri": "https://localhost:8080/",
          "height": 297
        },
        "id": "pC0SYrr355au",
        "outputId": "b93867f3-df77-41c0-de80-01b81ecc5e62"
      },
      "source": [
        "df_products.describe(include='all').T"
      ],
      "execution_count": 8,
      "outputs": [
        {
          "output_type": "execute_result",
          "data": {
            "text/html": [
              "<div>\n",
              "<style scoped>\n",
              "    .dataframe tbody tr th:only-of-type {\n",
              "        vertical-align: middle;\n",
              "    }\n",
              "\n",
              "    .dataframe tbody tr th {\n",
              "        vertical-align: top;\n",
              "    }\n",
              "\n",
              "    .dataframe thead th {\n",
              "        text-align: right;\n",
              "    }\n",
              "</style>\n",
              "<table border=\"1\" class=\"dataframe\">\n",
              "  <thead>\n",
              "    <tr style=\"text-align: right;\">\n",
              "      <th></th>\n",
              "      <th>count</th>\n",
              "      <th>unique</th>\n",
              "      <th>top</th>\n",
              "      <th>freq</th>\n",
              "      <th>mean</th>\n",
              "      <th>std</th>\n",
              "      <th>min</th>\n",
              "      <th>25%</th>\n",
              "      <th>50%</th>\n",
              "      <th>75%</th>\n",
              "      <th>max</th>\n",
              "    </tr>\n",
              "  </thead>\n",
              "  <tbody>\n",
              "    <tr>\n",
              "      <th>product_id</th>\n",
              "      <td>32951</td>\n",
              "      <td>32951</td>\n",
              "      <td>8e3a9b154a86602302ce789b9eb8b6c7</td>\n",
              "      <td>1</td>\n",
              "      <td>NaN</td>\n",
              "      <td>NaN</td>\n",
              "      <td>NaN</td>\n",
              "      <td>NaN</td>\n",
              "      <td>NaN</td>\n",
              "      <td>NaN</td>\n",
              "      <td>NaN</td>\n",
              "    </tr>\n",
              "    <tr>\n",
              "      <th>product_category_name</th>\n",
              "      <td>32341</td>\n",
              "      <td>73</td>\n",
              "      <td>cama_mesa_banho</td>\n",
              "      <td>3029</td>\n",
              "      <td>NaN</td>\n",
              "      <td>NaN</td>\n",
              "      <td>NaN</td>\n",
              "      <td>NaN</td>\n",
              "      <td>NaN</td>\n",
              "      <td>NaN</td>\n",
              "      <td>NaN</td>\n",
              "    </tr>\n",
              "    <tr>\n",
              "      <th>product_name_lenght</th>\n",
              "      <td>32341</td>\n",
              "      <td>NaN</td>\n",
              "      <td>NaN</td>\n",
              "      <td>NaN</td>\n",
              "      <td>48.4769</td>\n",
              "      <td>10.2457</td>\n",
              "      <td>5</td>\n",
              "      <td>42</td>\n",
              "      <td>51</td>\n",
              "      <td>57</td>\n",
              "      <td>76</td>\n",
              "    </tr>\n",
              "    <tr>\n",
              "      <th>product_description_lenght</th>\n",
              "      <td>32341</td>\n",
              "      <td>NaN</td>\n",
              "      <td>NaN</td>\n",
              "      <td>NaN</td>\n",
              "      <td>771.495</td>\n",
              "      <td>635.115</td>\n",
              "      <td>4</td>\n",
              "      <td>339</td>\n",
              "      <td>595</td>\n",
              "      <td>972</td>\n",
              "      <td>3992</td>\n",
              "    </tr>\n",
              "    <tr>\n",
              "      <th>product_weight_g</th>\n",
              "      <td>32949</td>\n",
              "      <td>NaN</td>\n",
              "      <td>NaN</td>\n",
              "      <td>NaN</td>\n",
              "      <td>2276.47</td>\n",
              "      <td>4282.04</td>\n",
              "      <td>0</td>\n",
              "      <td>300</td>\n",
              "      <td>700</td>\n",
              "      <td>1900</td>\n",
              "      <td>40425</td>\n",
              "    </tr>\n",
              "    <tr>\n",
              "      <th>product_length_cm</th>\n",
              "      <td>32949</td>\n",
              "      <td>NaN</td>\n",
              "      <td>NaN</td>\n",
              "      <td>NaN</td>\n",
              "      <td>30.8151</td>\n",
              "      <td>16.9145</td>\n",
              "      <td>7</td>\n",
              "      <td>18</td>\n",
              "      <td>25</td>\n",
              "      <td>38</td>\n",
              "      <td>105</td>\n",
              "    </tr>\n",
              "    <tr>\n",
              "      <th>product_height_cm</th>\n",
              "      <td>32949</td>\n",
              "      <td>NaN</td>\n",
              "      <td>NaN</td>\n",
              "      <td>NaN</td>\n",
              "      <td>16.9377</td>\n",
              "      <td>13.6376</td>\n",
              "      <td>2</td>\n",
              "      <td>8</td>\n",
              "      <td>13</td>\n",
              "      <td>21</td>\n",
              "      <td>105</td>\n",
              "    </tr>\n",
              "    <tr>\n",
              "      <th>product_width_cm</th>\n",
              "      <td>32949</td>\n",
              "      <td>NaN</td>\n",
              "      <td>NaN</td>\n",
              "      <td>NaN</td>\n",
              "      <td>23.1967</td>\n",
              "      <td>12.079</td>\n",
              "      <td>6</td>\n",
              "      <td>15</td>\n",
              "      <td>20</td>\n",
              "      <td>30</td>\n",
              "      <td>118</td>\n",
              "    </tr>\n",
              "  </tbody>\n",
              "</table>\n",
              "</div>"
            ],
            "text/plain": [
              "                            count unique  ...   75%    max\n",
              "product_id                  32951  32951  ...   NaN    NaN\n",
              "product_category_name       32341     73  ...   NaN    NaN\n",
              "product_name_lenght         32341    NaN  ...    57     76\n",
              "product_description_lenght  32341    NaN  ...   972   3992\n",
              "product_weight_g            32949    NaN  ...  1900  40425\n",
              "product_length_cm           32949    NaN  ...    38    105\n",
              "product_height_cm           32949    NaN  ...    21    105\n",
              "product_width_cm            32949    NaN  ...    30    118\n",
              "\n",
              "[8 rows x 11 columns]"
            ]
          },
          "metadata": {},
          "execution_count": 8
        }
      ]
    },
    {
      "cell_type": "code",
      "metadata": {
        "id": "V1bG5v9f1lNE"
      },
      "source": [
        "df_products.dropna(inplace=True)"
      ],
      "execution_count": 9,
      "outputs": []
    },
    {
      "cell_type": "code",
      "metadata": {
        "colab": {
          "base_uri": "https://localhost:8080/"
        },
        "id": "sVZTypsP1sTE",
        "outputId": "142f9670-d233-4e4f-cce0-3eb00440eb47"
      },
      "source": [
        "df_products.shape"
      ],
      "execution_count": 10,
      "outputs": [
        {
          "output_type": "execute_result",
          "data": {
            "text/plain": [
              "(32340, 8)"
            ]
          },
          "metadata": {},
          "execution_count": 10
        }
      ]
    },
    {
      "cell_type": "markdown",
      "metadata": {
        "id": "2ulbgNYD8GMu"
      },
      "source": [
        "#Produtos com maior quantidade de vendas e com notas maior ou igual a 4 para o Cold Start"
      ]
    },
    {
      "cell_type": "code",
      "metadata": {
        "id": "7ecy6nm5xSx2"
      },
      "source": [
        "df1 = df_order_items.merge(df_products)\n",
        "df = df1.merge(df_order_reviews)"
      ],
      "execution_count": 11,
      "outputs": []
    },
    {
      "cell_type": "code",
      "metadata": {
        "colab": {
          "base_uri": "https://localhost:8080/"
        },
        "id": "vAmQNl4U8spI",
        "outputId": "b0840c24-4306-434d-9f72-9a2cd261668b"
      },
      "source": [
        "df.shape"
      ],
      "execution_count": 12,
      "outputs": [
        {
          "output_type": "execute_result",
          "data": {
            "text/plain": [
              "(110773, 13)"
            ]
          },
          "metadata": {},
          "execution_count": 12
        }
      ]
    },
    {
      "cell_type": "code",
      "metadata": {
        "colab": {
          "base_uri": "https://localhost:8080/"
        },
        "id": "uL6utAA0xS0J",
        "outputId": "a83db72a-6fe7-42f4-a96e-a559b9fbff18"
      },
      "source": [
        "df.isnull().sum()"
      ],
      "execution_count": 13,
      "outputs": [
        {
          "output_type": "execute_result",
          "data": {
            "text/plain": [
              "order_id                      0\n",
              "order_item_id                 0\n",
              "product_id                    0\n",
              "price                         0\n",
              "product_category_name         0\n",
              "product_name_lenght           0\n",
              "product_description_lenght    0\n",
              "product_weight_g              0\n",
              "product_length_cm             0\n",
              "product_height_cm             0\n",
              "product_width_cm              0\n",
              "review_id                     0\n",
              "review_score                  0\n",
              "dtype: int64"
            ]
          },
          "metadata": {},
          "execution_count": 13
        }
      ]
    },
    {
      "cell_type": "code",
      "metadata": {
        "id": "XnquroLc8gAm"
      },
      "source": [
        "df_filter = df[df['review_score'] >= 4]"
      ],
      "execution_count": 14,
      "outputs": []
    },
    {
      "cell_type": "code",
      "metadata": {
        "colab": {
          "base_uri": "https://localhost:8080/",
          "height": 224
        },
        "id": "NWo6dwORxS6J",
        "outputId": "9e315f79-2fa2-4130-cc8f-248333b412db"
      },
      "source": [
        "df_filter.head()"
      ],
      "execution_count": 15,
      "outputs": [
        {
          "output_type": "execute_result",
          "data": {
            "text/html": [
              "<div>\n",
              "<style scoped>\n",
              "    .dataframe tbody tr th:only-of-type {\n",
              "        vertical-align: middle;\n",
              "    }\n",
              "\n",
              "    .dataframe tbody tr th {\n",
              "        vertical-align: top;\n",
              "    }\n",
              "\n",
              "    .dataframe thead th {\n",
              "        text-align: right;\n",
              "    }\n",
              "</style>\n",
              "<table border=\"1\" class=\"dataframe\">\n",
              "  <thead>\n",
              "    <tr style=\"text-align: right;\">\n",
              "      <th></th>\n",
              "      <th>order_id</th>\n",
              "      <th>order_item_id</th>\n",
              "      <th>product_id</th>\n",
              "      <th>price</th>\n",
              "      <th>product_category_name</th>\n",
              "      <th>product_name_lenght</th>\n",
              "      <th>product_description_lenght</th>\n",
              "      <th>product_weight_g</th>\n",
              "      <th>product_length_cm</th>\n",
              "      <th>product_height_cm</th>\n",
              "      <th>product_width_cm</th>\n",
              "      <th>review_id</th>\n",
              "      <th>review_score</th>\n",
              "    </tr>\n",
              "  </thead>\n",
              "  <tbody>\n",
              "    <tr>\n",
              "      <th>0</th>\n",
              "      <td>00010242fe8c5a6d1ba2dd792cb16214</td>\n",
              "      <td>1</td>\n",
              "      <td>4244733e06e7ecb4970a6e2683c13e61</td>\n",
              "      <td>58.9</td>\n",
              "      <td>cool_stuff</td>\n",
              "      <td>58.0</td>\n",
              "      <td>598.0</td>\n",
              "      <td>650.0</td>\n",
              "      <td>28.0</td>\n",
              "      <td>9.0</td>\n",
              "      <td>14.0</td>\n",
              "      <td>97ca439bc427b48bc1cd7177abe71365</td>\n",
              "      <td>5</td>\n",
              "    </tr>\n",
              "    <tr>\n",
              "      <th>1</th>\n",
              "      <td>130898c0987d1801452a8ed92a670612</td>\n",
              "      <td>1</td>\n",
              "      <td>4244733e06e7ecb4970a6e2683c13e61</td>\n",
              "      <td>55.9</td>\n",
              "      <td>cool_stuff</td>\n",
              "      <td>58.0</td>\n",
              "      <td>598.0</td>\n",
              "      <td>650.0</td>\n",
              "      <td>28.0</td>\n",
              "      <td>9.0</td>\n",
              "      <td>14.0</td>\n",
              "      <td>b11cba360bbe71410c291b764753d37f</td>\n",
              "      <td>5</td>\n",
              "    </tr>\n",
              "    <tr>\n",
              "      <th>2</th>\n",
              "      <td>532ed5e14e24ae1f0d735b91524b98b9</td>\n",
              "      <td>1</td>\n",
              "      <td>4244733e06e7ecb4970a6e2683c13e61</td>\n",
              "      <td>64.9</td>\n",
              "      <td>cool_stuff</td>\n",
              "      <td>58.0</td>\n",
              "      <td>598.0</td>\n",
              "      <td>650.0</td>\n",
              "      <td>28.0</td>\n",
              "      <td>9.0</td>\n",
              "      <td>14.0</td>\n",
              "      <td>af01c4017c5ab46df6cc810e069e654a</td>\n",
              "      <td>4</td>\n",
              "    </tr>\n",
              "    <tr>\n",
              "      <th>3</th>\n",
              "      <td>6f8c31653edb8c83e1a739408b5ff750</td>\n",
              "      <td>1</td>\n",
              "      <td>4244733e06e7ecb4970a6e2683c13e61</td>\n",
              "      <td>58.9</td>\n",
              "      <td>cool_stuff</td>\n",
              "      <td>58.0</td>\n",
              "      <td>598.0</td>\n",
              "      <td>650.0</td>\n",
              "      <td>28.0</td>\n",
              "      <td>9.0</td>\n",
              "      <td>14.0</td>\n",
              "      <td>8304ff37d8b16b57086fa283fe0c44f8</td>\n",
              "      <td>5</td>\n",
              "    </tr>\n",
              "    <tr>\n",
              "      <th>4</th>\n",
              "      <td>7d19f4ef4d04461989632411b7e588b9</td>\n",
              "      <td>1</td>\n",
              "      <td>4244733e06e7ecb4970a6e2683c13e61</td>\n",
              "      <td>58.9</td>\n",
              "      <td>cool_stuff</td>\n",
              "      <td>58.0</td>\n",
              "      <td>598.0</td>\n",
              "      <td>650.0</td>\n",
              "      <td>28.0</td>\n",
              "      <td>9.0</td>\n",
              "      <td>14.0</td>\n",
              "      <td>426f43a82185969503fb3c86241a9535</td>\n",
              "      <td>5</td>\n",
              "    </tr>\n",
              "  </tbody>\n",
              "</table>\n",
              "</div>"
            ],
            "text/plain": [
              "                           order_id  ...  review_score\n",
              "0  00010242fe8c5a6d1ba2dd792cb16214  ...             5\n",
              "1  130898c0987d1801452a8ed92a670612  ...             5\n",
              "2  532ed5e14e24ae1f0d735b91524b98b9  ...             4\n",
              "3  6f8c31653edb8c83e1a739408b5ff750  ...             5\n",
              "4  7d19f4ef4d04461989632411b7e588b9  ...             5\n",
              "\n",
              "[5 rows x 13 columns]"
            ]
          },
          "metadata": {},
          "execution_count": 15
        }
      ]
    },
    {
      "cell_type": "code",
      "metadata": {
        "colab": {
          "base_uri": "https://localhost:8080/"
        },
        "id": "Hw-_EPGG-K9S",
        "outputId": "9e1e1256-1d31-41c1-b79f-f6ea05d79307"
      },
      "source": [
        "df_filter.columns"
      ],
      "execution_count": 16,
      "outputs": [
        {
          "output_type": "execute_result",
          "data": {
            "text/plain": [
              "Index(['order_id', 'order_item_id', 'product_id', 'price',\n",
              "       'product_category_name', 'product_name_lenght',\n",
              "       'product_description_lenght', 'product_weight_g', 'product_length_cm',\n",
              "       'product_height_cm', 'product_width_cm', 'review_id', 'review_score'],\n",
              "      dtype='object')"
            ]
          },
          "metadata": {},
          "execution_count": 16
        }
      ]
    },
    {
      "cell_type": "code",
      "metadata": {
        "colab": {
          "base_uri": "https://localhost:8080/"
        },
        "id": "25LMoeWXxS77",
        "outputId": "9bdc2493-f888-485a-a2c9-8b626f0e01c4"
      },
      "source": [
        "columns = ['order_id', 'order_item_id', 'price', 'product_name_lenght',\n",
        "       'product_description_lenght', 'product_weight_g', 'product_length_cm',\n",
        "       'product_height_cm', 'product_width_cm', 'review_id', 'review_score']\n",
        "df_filter.drop(columns=columns, inplace=True)"
      ],
      "execution_count": 17,
      "outputs": [
        {
          "output_type": "stream",
          "name": "stderr",
          "text": [
            "/usr/local/lib/python3.7/dist-packages/pandas/core/frame.py:4174: SettingWithCopyWarning: \n",
            "A value is trying to be set on a copy of a slice from a DataFrame\n",
            "\n",
            "See the caveats in the documentation: https://pandas.pydata.org/pandas-docs/stable/user_guide/indexing.html#returning-a-view-versus-a-copy\n",
            "  errors=errors,\n"
          ]
        }
      ]
    },
    {
      "cell_type": "code",
      "metadata": {
        "colab": {
          "base_uri": "https://localhost:8080/",
          "height": 204
        },
        "id": "YaIxa2xE9I42",
        "outputId": "ca4ebc7f-4731-4e63-99fb-76456feadfc8"
      },
      "source": [
        "df_filter.head()"
      ],
      "execution_count": 18,
      "outputs": [
        {
          "output_type": "execute_result",
          "data": {
            "text/html": [
              "<div>\n",
              "<style scoped>\n",
              "    .dataframe tbody tr th:only-of-type {\n",
              "        vertical-align: middle;\n",
              "    }\n",
              "\n",
              "    .dataframe tbody tr th {\n",
              "        vertical-align: top;\n",
              "    }\n",
              "\n",
              "    .dataframe thead th {\n",
              "        text-align: right;\n",
              "    }\n",
              "</style>\n",
              "<table border=\"1\" class=\"dataframe\">\n",
              "  <thead>\n",
              "    <tr style=\"text-align: right;\">\n",
              "      <th></th>\n",
              "      <th>product_id</th>\n",
              "      <th>product_category_name</th>\n",
              "    </tr>\n",
              "  </thead>\n",
              "  <tbody>\n",
              "    <tr>\n",
              "      <th>0</th>\n",
              "      <td>4244733e06e7ecb4970a6e2683c13e61</td>\n",
              "      <td>cool_stuff</td>\n",
              "    </tr>\n",
              "    <tr>\n",
              "      <th>1</th>\n",
              "      <td>4244733e06e7ecb4970a6e2683c13e61</td>\n",
              "      <td>cool_stuff</td>\n",
              "    </tr>\n",
              "    <tr>\n",
              "      <th>2</th>\n",
              "      <td>4244733e06e7ecb4970a6e2683c13e61</td>\n",
              "      <td>cool_stuff</td>\n",
              "    </tr>\n",
              "    <tr>\n",
              "      <th>3</th>\n",
              "      <td>4244733e06e7ecb4970a6e2683c13e61</td>\n",
              "      <td>cool_stuff</td>\n",
              "    </tr>\n",
              "    <tr>\n",
              "      <th>4</th>\n",
              "      <td>4244733e06e7ecb4970a6e2683c13e61</td>\n",
              "      <td>cool_stuff</td>\n",
              "    </tr>\n",
              "  </tbody>\n",
              "</table>\n",
              "</div>"
            ],
            "text/plain": [
              "                         product_id product_category_name\n",
              "0  4244733e06e7ecb4970a6e2683c13e61            cool_stuff\n",
              "1  4244733e06e7ecb4970a6e2683c13e61            cool_stuff\n",
              "2  4244733e06e7ecb4970a6e2683c13e61            cool_stuff\n",
              "3  4244733e06e7ecb4970a6e2683c13e61            cool_stuff\n",
              "4  4244733e06e7ecb4970a6e2683c13e61            cool_stuff"
            ]
          },
          "metadata": {},
          "execution_count": 18
        }
      ]
    },
    {
      "cell_type": "code",
      "metadata": {
        "id": "6BDI2Ecq9I6q"
      },
      "source": [
        "def cold_start(dataf,n=5):\n",
        "  return dataf.groupby(by=['product_category_name','product_id'], as_index='product_category_name') \\\n",
        "    .agg({'product_id': 'count'}) \\\n",
        "    .rename(columns={'product_id': 'product_id_count'}) \\\n",
        "    .sort_values(['product_category_name','product_id_count'], ascending = False) \\\n",
        "    .groupby(by='product_category_name').head(n).reset_index()"
      ],
      "execution_count": 19,
      "outputs": []
    },
    {
      "cell_type": "code",
      "metadata": {
        "id": "ls4KDK4L9JWY"
      },
      "source": [
        "df_top_5 = cold_start(df_filter)"
      ],
      "execution_count": 20,
      "outputs": []
    },
    {
      "cell_type": "code",
      "metadata": {
        "colab": {
          "base_uri": "https://localhost:8080/",
          "height": 419
        },
        "id": "Te-EFEQ7Yphf",
        "outputId": "f9c20fa0-7c10-4382-d678-80c9ccf9901a"
      },
      "source": [
        "df_top_5"
      ],
      "execution_count": 21,
      "outputs": [
        {
          "output_type": "execute_result",
          "data": {
            "text/html": [
              "<div>\n",
              "<style scoped>\n",
              "    .dataframe tbody tr th:only-of-type {\n",
              "        vertical-align: middle;\n",
              "    }\n",
              "\n",
              "    .dataframe tbody tr th {\n",
              "        vertical-align: top;\n",
              "    }\n",
              "\n",
              "    .dataframe thead th {\n",
              "        text-align: right;\n",
              "    }\n",
              "</style>\n",
              "<table border=\"1\" class=\"dataframe\">\n",
              "  <thead>\n",
              "    <tr style=\"text-align: right;\">\n",
              "      <th></th>\n",
              "      <th>product_category_name</th>\n",
              "      <th>product_id</th>\n",
              "      <th>product_id_count</th>\n",
              "    </tr>\n",
              "  </thead>\n",
              "  <tbody>\n",
              "    <tr>\n",
              "      <th>0</th>\n",
              "      <td>utilidades_domesticas</td>\n",
              "      <td>42a2c92a0979a949ca4ea89ec5c7b934</td>\n",
              "      <td>129</td>\n",
              "    </tr>\n",
              "    <tr>\n",
              "      <th>1</th>\n",
              "      <td>utilidades_domesticas</td>\n",
              "      <td>f7a17d2c51d9df89a4f1711c4ac17f33</td>\n",
              "      <td>59</td>\n",
              "    </tr>\n",
              "    <tr>\n",
              "      <th>2</th>\n",
              "      <td>utilidades_domesticas</td>\n",
              "      <td>5a6e53c3b4e8684b13388d6aa4afdf12</td>\n",
              "      <td>57</td>\n",
              "    </tr>\n",
              "    <tr>\n",
              "      <th>3</th>\n",
              "      <td>utilidades_domesticas</td>\n",
              "      <td>d696750e550fd0f733979dd7e5dff921</td>\n",
              "      <td>51</td>\n",
              "    </tr>\n",
              "    <tr>\n",
              "      <th>4</th>\n",
              "      <td>utilidades_domesticas</td>\n",
              "      <td>e9a69340883a438c3f91739d14d3a56d</td>\n",
              "      <td>43</td>\n",
              "    </tr>\n",
              "    <tr>\n",
              "      <th>...</th>\n",
              "      <td>...</td>\n",
              "      <td>...</td>\n",
              "      <td>...</td>\n",
              "    </tr>\n",
              "    <tr>\n",
              "      <th>348</th>\n",
              "      <td>agro_industria_e_comercio</td>\n",
              "      <td>11250b0d4b709fee92441c5f34122aed</td>\n",
              "      <td>22</td>\n",
              "    </tr>\n",
              "    <tr>\n",
              "      <th>349</th>\n",
              "      <td>agro_industria_e_comercio</td>\n",
              "      <td>423a6644f0aa529e8828ff1f91003690</td>\n",
              "      <td>16</td>\n",
              "    </tr>\n",
              "    <tr>\n",
              "      <th>350</th>\n",
              "      <td>agro_industria_e_comercio</td>\n",
              "      <td>672e757f331900b9deea127a2a7b79fd</td>\n",
              "      <td>15</td>\n",
              "    </tr>\n",
              "    <tr>\n",
              "      <th>351</th>\n",
              "      <td>agro_industria_e_comercio</td>\n",
              "      <td>3bebad3cf2c8d1a8d3ce97174643e054</td>\n",
              "      <td>10</td>\n",
              "    </tr>\n",
              "    <tr>\n",
              "      <th>352</th>\n",
              "      <td>agro_industria_e_comercio</td>\n",
              "      <td>b5aebb467d9a92162173cbd234e00d99</td>\n",
              "      <td>10</td>\n",
              "    </tr>\n",
              "  </tbody>\n",
              "</table>\n",
              "<p>353 rows × 3 columns</p>\n",
              "</div>"
            ],
            "text/plain": [
              "         product_category_name  ... product_id_count\n",
              "0        utilidades_domesticas  ...              129\n",
              "1        utilidades_domesticas  ...               59\n",
              "2        utilidades_domesticas  ...               57\n",
              "3        utilidades_domesticas  ...               51\n",
              "4        utilidades_domesticas  ...               43\n",
              "..                         ...  ...              ...\n",
              "348  agro_industria_e_comercio  ...               22\n",
              "349  agro_industria_e_comercio  ...               16\n",
              "350  agro_industria_e_comercio  ...               15\n",
              "351  agro_industria_e_comercio  ...               10\n",
              "352  agro_industria_e_comercio  ...               10\n",
              "\n",
              "[353 rows x 3 columns]"
            ]
          },
          "metadata": {},
          "execution_count": 21
        }
      ]
    },
    {
      "cell_type": "markdown",
      "metadata": {
        "id": "A6isM-gIepD-"
      },
      "source": [
        "#Recomendação dos produtos"
      ]
    },
    {
      "cell_type": "code",
      "metadata": {
        "id": "fxWafjhJ6UF2"
      },
      "source": [
        "df_recomend = df.drop(columns=['order_id', 'order_item_id','review_id'])"
      ],
      "execution_count": 22,
      "outputs": []
    },
    {
      "cell_type": "code",
      "metadata": {
        "id": "-sbj6eYB7cM2"
      },
      "source": [
        "numeric = ['product_name_lenght','product_description_lenght', 'product_weight_g',\n",
        "           'product_length_cm','product_height_cm', 'product_width_cm', 'price', 'review_score']\n",
        "categ = ['product_id','product_category_name']"
      ],
      "execution_count": 23,
      "outputs": []
    },
    {
      "cell_type": "code",
      "metadata": {
        "id": "dHYdVVaS7mhW"
      },
      "source": [
        "df_recomend = df_recomend.groupby(by=categ, as_index=False)[numeric].median()"
      ],
      "execution_count": 24,
      "outputs": []
    },
    {
      "cell_type": "code",
      "metadata": {
        "id": "hWVI9mttARkr"
      },
      "source": [
        "df_sample = df_recomend.sample(2000)\n",
        "df_sample = df_sample.set_index('product_id')\n",
        "df_sample = pd.get_dummies(df_sample)"
      ],
      "execution_count": 25,
      "outputs": []
    },
    {
      "cell_type": "code",
      "metadata": {
        "id": "JhovZe5l1uNh"
      },
      "source": [
        "prod_recom =  cosine_similarity(df_sample)"
      ],
      "execution_count": 26,
      "outputs": []
    },
    {
      "cell_type": "code",
      "metadata": {
        "colab": {
          "base_uri": "https://localhost:8080/"
        },
        "id": "Tz6g8DeVAuBZ",
        "outputId": "4ce2007d-e926-44d7-811d-3927f0f6d45f"
      },
      "source": [
        "prod_recom"
      ],
      "execution_count": 27,
      "outputs": [
        {
          "output_type": "execute_result",
          "data": {
            "text/plain": [
              "array([[1.        , 0.57327115, 0.96137501, ..., 0.96616909, 0.94102737,\n",
              "        0.95718884],\n",
              "       [0.57327115, 1.        , 0.77261887, ..., 0.34465814, 0.28276606,\n",
              "        0.7562827 ],\n",
              "       [0.96137501, 0.77261887, 1.        , ..., 0.8593864 , 0.82413581,\n",
              "        0.99316554],\n",
              "       ...,\n",
              "       [0.96616909, 0.34465814, 0.8593864 , ..., 1.        , 0.98737488,\n",
              "        0.85772689],\n",
              "       [0.94102737, 0.28276606, 0.82413581, ..., 0.98737488, 1.        ,\n",
              "        0.83918423],\n",
              "       [0.95718884, 0.7562827 , 0.99316554, ..., 0.85772689, 0.83918423,\n",
              "        1.        ]])"
            ]
          },
          "metadata": {},
          "execution_count": 27
        }
      ]
    },
    {
      "cell_type": "code",
      "metadata": {
        "colab": {
          "base_uri": "https://localhost:8080/",
          "height": 265
        },
        "id": "Mkwx_FsLA4Kc",
        "outputId": "b3666bd1-09c2-46ac-cf16-92faa69ddf2a"
      },
      "source": [
        "prod_semelhantes = df_sample.index[20]\n",
        "\n",
        "print(f'O produto escolhido é: {prod_semelhantes}')\n",
        "\n",
        "prod_id = df_sample.index.tolist().index(prod_semelhantes)\n",
        "print(f'Produto: {prod_semelhantes}, tem índice: {prod_id}')\n",
        "\n",
        "similares_10 = np.argsort(-prod_recom[prod_id])[1:10]\n",
        "\n",
        "for i in zip(df_sample.index[similares_10],prod_recom[prod_id][similares_10]):\n",
        "  print(f'Produto {i[0]} tem similaridade {i[1]:2f} com produto {prod_semelhantes}')"
      ],
      "execution_count": 28,
      "outputs": [
        {
          "output_type": "stream",
          "name": "stdout",
          "text": [
            "O produto escolhido é: 740867136b4bf7605e36c5913b91eb99\n",
            "Produto: 740867136b4bf7605e36c5913b91eb99, tem índice: 20\n"
          ]
        },
        {
          "output_type": "error",
          "ename": "NameError",
          "evalue": "ignored",
          "traceback": [
            "\u001b[0;31m---------------------------------------------------------------------------\u001b[0m",
            "\u001b[0;31mNameError\u001b[0m                                 Traceback (most recent call last)",
            "\u001b[0;32m<ipython-input-28-3e57e368df3d>\u001b[0m in \u001b[0;36m<module>\u001b[0;34m()\u001b[0m\n\u001b[1;32m      6\u001b[0m \u001b[0mprint\u001b[0m\u001b[0;34m(\u001b[0m\u001b[0;34mf'Produto: {prod_semelhantes}, tem índice: {prod_id}'\u001b[0m\u001b[0;34m)\u001b[0m\u001b[0;34m\u001b[0m\u001b[0;34m\u001b[0m\u001b[0m\n\u001b[1;32m      7\u001b[0m \u001b[0;34m\u001b[0m\u001b[0m\n\u001b[0;32m----> 8\u001b[0;31m \u001b[0msimilares_10\u001b[0m \u001b[0;34m=\u001b[0m \u001b[0mnp\u001b[0m\u001b[0;34m.\u001b[0m\u001b[0margsort\u001b[0m\u001b[0;34m(\u001b[0m\u001b[0;34m-\u001b[0m\u001b[0mprod_recom\u001b[0m\u001b[0;34m[\u001b[0m\u001b[0mprod_id\u001b[0m\u001b[0;34m]\u001b[0m\u001b[0;34m)\u001b[0m\u001b[0;34m[\u001b[0m\u001b[0;36m1\u001b[0m\u001b[0;34m:\u001b[0m\u001b[0;36m10\u001b[0m\u001b[0;34m]\u001b[0m\u001b[0;34m\u001b[0m\u001b[0;34m\u001b[0m\u001b[0m\n\u001b[0m\u001b[1;32m      9\u001b[0m \u001b[0;34m\u001b[0m\u001b[0m\n\u001b[1;32m     10\u001b[0m \u001b[0;32mfor\u001b[0m \u001b[0mi\u001b[0m \u001b[0;32min\u001b[0m \u001b[0mzip\u001b[0m\u001b[0;34m(\u001b[0m\u001b[0mdf_sample\u001b[0m\u001b[0;34m.\u001b[0m\u001b[0mindex\u001b[0m\u001b[0;34m[\u001b[0m\u001b[0msimilares_10\u001b[0m\u001b[0;34m]\u001b[0m\u001b[0;34m,\u001b[0m\u001b[0mprod_recom\u001b[0m\u001b[0;34m[\u001b[0m\u001b[0mprod_id\u001b[0m\u001b[0;34m]\u001b[0m\u001b[0;34m[\u001b[0m\u001b[0msimilares_10\u001b[0m\u001b[0;34m]\u001b[0m\u001b[0;34m)\u001b[0m\u001b[0;34m:\u001b[0m\u001b[0;34m\u001b[0m\u001b[0;34m\u001b[0m\u001b[0m\n",
            "\u001b[0;31mNameError\u001b[0m: name 'np' is not defined"
          ]
        }
      ]
    }
  ]
}